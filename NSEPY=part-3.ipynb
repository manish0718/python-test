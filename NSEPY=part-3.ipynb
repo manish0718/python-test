{
 "cells": [
  {
   "cell_type": "code",
   "execution_count": 1,
   "metadata": {
    "collapsed": true
   },
   "outputs": [],
   "source": [
    "import pandas as pd\n",
    "from pandas import datetime\n",
    "import numpy as np\n",
    "\n",
    "import seaborn as sns\n",
    "\n",
    "import matplotlib\n",
    "import matplotlib.pyplot as plt\n",
    "%matplotlib inline"
   ]
  },
  {
   "cell_type": "code",
   "execution_count": 2,
   "metadata": {
    "collapsed": true
   },
   "outputs": [],
   "source": [
    "path = 'E:/GitHub_Project_upload/done/python-test/'\n",
    "\n",
    "TCS = pd.read_csv(path + 'tcs_stock.csv', parse_dates=['Date'])\n",
    "\n",
    "INFY = pd.read_csv(path + 'infy_stock.csv', parse_dates=['Date'])\n",
    "\n",
    "NIFTY = pd.read_csv(path + 'nifty_it_index.csv', parse_dates=['Date'])\n",
    "\n",
    "\n",
    "stocks = [TCS, INFY, NIFTY]\n",
    "\n",
    "\n",
    "TCS.name = 'TCS'\n",
    "INFY.name = 'INFY'\n",
    "NIFTY.name = 'NIFTY_IT'\n"
   ]
  },
  {
   "cell_type": "code",
   "execution_count": 3,
   "metadata": {
    "collapsed": true
   },
   "outputs": [],
   "source": [
    "TCS[\"Date\"] = pd.to_datetime(TCS[\"Date\"])\n",
    "INFY[\"Date\"] = pd.to_datetime(INFY[\"Date\"])\n",
    "NIFTY[\"Date\"] = pd.to_datetime(NIFTY[\"Date\"])"
   ]
  },
  {
   "cell_type": "code",
   "execution_count": 4,
   "metadata": {
    "collapsed": true
   },
   "outputs": [],
   "source": [
    "# data extraction\n",
    "\n",
    "\n",
    "def features_build(df):\n",
    "    df['Date'] = pd.to_datetime(df['Date'])\n",
    "    df['Year'] = df['Date'].dt.year\n",
    "    df['Month'] = df.Date.dt.month\n",
    "    df['Day'] = df.Date.dt.day\n",
    "    df['WeekOfYear'] = df.Date.dt.weekofyear\n",
    "    \n",
    "    \n",
    "    \n",
    "for i in range(len(stocks)):\n",
    "    # print(stocks[i])\n",
    "    features_build(stocks[i])\n",
    "    "
   ]
  },
  {
   "cell_type": "code",
   "execution_count": 5,
   "metadata": {
    "collapsed": false
   },
   "outputs": [
    {
     "data": {
      "text/plain": [
       "(248, 19)"
      ]
     },
     "execution_count": 5,
     "metadata": {},
     "output_type": "execute_result"
    }
   ],
   "source": [
    "TCS.shape"
   ]
  },
  {
   "cell_type": "code",
   "execution_count": null,
   "metadata": {
    "collapsed": true
   },
   "outputs": [],
   "source": []
  }
 ],
 "metadata": {
  "kernelspec": {
   "display_name": "Python 3",
   "language": "python",
   "name": "python3"
  },
  "language_info": {
   "codemirror_mode": {
    "name": "ipython",
    "version": 3
   },
   "file_extension": ".py",
   "mimetype": "text/x-python",
   "name": "python",
   "nbconvert_exporter": "python",
   "pygments_lexer": "ipython3",
   "version": "3.6.6"
  }
 },
 "nbformat": 4,
 "nbformat_minor": 2
}
